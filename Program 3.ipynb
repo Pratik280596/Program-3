{
 "cells": [
  {
   "cell_type": "code",
   "execution_count": null,
   "id": "86b2ea6b",
   "metadata": {},
   "outputs": [],
   "source": [
    "# Write a Python program to count the number of even and odd numbers from a series of numbers."
   ]
  },
  {
   "cell_type": "code",
   "execution_count": 3,
   "id": "d4656023",
   "metadata": {},
   "outputs": [
    {
     "name": "stdout",
     "output_type": "stream",
     "text": [
      "Number of Even Numbers are:  5\n",
      "Number of Odd Numbers are:  4\n"
     ]
    }
   ],
   "source": [
    "numbers = (1, 2, 3, 4, 5, 6, 7, 8, 9)\n",
    "count_evenno = 0\n",
    "count_oddno = 0\n",
    "for x in numbers:\n",
    "    if  x % 2:\n",
    "        count_evenno +=1\n",
    "    else:\n",
    "        count_oddno +=1\n",
    "print(\"Number of Even Numbers are: \", count_evenno)\n",
    "print(\"Number of Odd Numbers are: \", count_oddno)"
   ]
  },
  {
   "cell_type": "code",
   "execution_count": null,
   "id": "4ec6b7f9",
   "metadata": {},
   "outputs": [],
   "source": []
  },
  {
   "cell_type": "code",
   "execution_count": null,
   "id": "3dec62c7",
   "metadata": {},
   "outputs": [],
   "source": []
  }
 ],
 "metadata": {
  "kernelspec": {
   "display_name": "Python 3 (ipykernel)",
   "language": "python",
   "name": "python3"
  },
  "language_info": {
   "codemirror_mode": {
    "name": "ipython",
    "version": 3
   },
   "file_extension": ".py",
   "mimetype": "text/x-python",
   "name": "python",
   "nbconvert_exporter": "python",
   "pygments_lexer": "ipython3",
   "version": "3.7.0"
  }
 },
 "nbformat": 4,
 "nbformat_minor": 5
}
